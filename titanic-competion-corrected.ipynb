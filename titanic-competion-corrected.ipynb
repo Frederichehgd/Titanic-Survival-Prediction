{
 "cells": [
  {
   "cell_type": "markdown",
   "metadata": {
    "execution": {
     "iopub.execute_input": "2025-02-17T17:58:49.276669Z",
     "iopub.status.busy": "2025-02-17T17:58:49.276309Z",
     "iopub.status.idle": "2025-02-17T17:58:49.280856Z",
     "shell.execute_reply": "2025-02-17T17:58:49.279810Z",
     "shell.execute_reply.started": "2025-02-17T17:58:49.276643Z"
    }
   },
   "source": [
    "# KAGGLE TITANIC Competition\n",
    "* Developing ML model to predict how many people will survive the shipwreck.\n",
    "* The first line of code below shows us where the competition data is stored."
   ]
  },
  {
   "cell_type": "code",
   "execution_count": 3,
   "metadata": {
    "_cell_guid": "b1076dfc-b9ad-4769-8c92-a6c4dae69d19",
    "_uuid": "8f2839f25d086af736a60e9eeb907d3b93b6e0e5",
    "execution": {
     "iopub.execute_input": "2025-02-18T17:57:54.109970Z",
     "iopub.status.busy": "2025-02-18T17:57:54.109621Z",
     "iopub.status.idle": "2025-02-18T17:57:54.118584Z",
     "shell.execute_reply": "2025-02-18T17:57:54.117224Z",
     "shell.execute_reply.started": "2025-02-18T17:57:54.109942Z"
    }
   },
   "outputs": [
    {
     "name": "stdout",
     "output_type": "stream",
     "text": [
      "/kaggle/input/titanic/train.csv\n",
      "/kaggle/input/titanic/test.csv\n",
      "/kaggle/input/titanic/gender_submission.csv\n"
     ]
    }
   ],
   "source": [
    "# This Python 3 environment comes with many helpful analytics libraries installed\n",
    "# It is defined by the kaggle/python Docker image: https://github.com/kaggle/docker-python\n",
    "# For example, here's several helpful packages to load\n",
    "\n",
    "import numpy as np # linear algebra\n",
    "import pandas as pd # data processing, CSV file I/O (e.g. pd.read_csv)\n",
    "\n",
    "# Input data files are available in the read-only \"../input/\" directory\n",
    "# For example, running this (by clicking run or pressing Shift+Enter) will list all files under the input directory\n",
    "\n",
    "import os\n",
    "for dirname, _, filenames in os.walk('/kaggle/input'):\n",
    "    for filename in filenames:\n",
    "        print(os.path.join(dirname, filename))\n",
    "\n",
    "# You can write up to 20GB to the current directory (/kaggle/working/) that gets preserved as output when you create a version using \"Save & Run All\" \n",
    "# You can also write temporary files to /kaggle/temp/, but they won't be saved outside of the current session"
   ]
  },
  {
   "cell_type": "markdown",
   "metadata": {},
   "source": [
    "#    The code below loads the following datasets.\n",
    "*  `train_data`: Used to train the model\n",
    "*  `test_data`: Used to evaluate the predictive accuracy of our model"
   ]
  },
  {
   "cell_type": "code",
   "execution_count": 4,
   "metadata": {
    "execution": {
     "iopub.execute_input": "2025-02-18T17:57:54.120245Z",
     "iopub.status.busy": "2025-02-18T17:57:54.119912Z",
     "iopub.status.idle": "2025-02-18T17:57:54.200674Z",
     "shell.execute_reply": "2025-02-18T17:57:54.199665Z",
     "shell.execute_reply.started": "2025-02-18T17:57:54.120215Z"
    }
   },
   "outputs": [
    {
     "data": {
      "text/html": [
       "<div>\n",
       "<style scoped>\n",
       "    .dataframe tbody tr th:only-of-type {\n",
       "        vertical-align: middle;\n",
       "    }\n",
       "\n",
       "    .dataframe tbody tr th {\n",
       "        vertical-align: top;\n",
       "    }\n",
       "\n",
       "    .dataframe thead th {\n",
       "        text-align: right;\n",
       "    }\n",
       "</style>\n",
       "<table border=\"1\" class=\"dataframe\">\n",
       "  <thead>\n",
       "    <tr style=\"text-align: right;\">\n",
       "      <th></th>\n",
       "      <th>PassengerId</th>\n",
       "      <th>Survived</th>\n",
       "      <th>Pclass</th>\n",
       "      <th>Name</th>\n",
       "      <th>Sex</th>\n",
       "      <th>Age</th>\n",
       "      <th>SibSp</th>\n",
       "      <th>Parch</th>\n",
       "      <th>Ticket</th>\n",
       "      <th>Fare</th>\n",
       "      <th>Cabin</th>\n",
       "      <th>Embarked</th>\n",
       "    </tr>\n",
       "  </thead>\n",
       "  <tbody>\n",
       "    <tr>\n",
       "      <th>0</th>\n",
       "      <td>1</td>\n",
       "      <td>0</td>\n",
       "      <td>3</td>\n",
       "      <td>Braund, Mr. Owen Harris</td>\n",
       "      <td>male</td>\n",
       "      <td>22.0</td>\n",
       "      <td>1</td>\n",
       "      <td>0</td>\n",
       "      <td>A/5 21171</td>\n",
       "      <td>7.2500</td>\n",
       "      <td>NaN</td>\n",
       "      <td>S</td>\n",
       "    </tr>\n",
       "    <tr>\n",
       "      <th>1</th>\n",
       "      <td>2</td>\n",
       "      <td>1</td>\n",
       "      <td>1</td>\n",
       "      <td>Cumings, Mrs. John Bradley (Florence Briggs Th...</td>\n",
       "      <td>female</td>\n",
       "      <td>38.0</td>\n",
       "      <td>1</td>\n",
       "      <td>0</td>\n",
       "      <td>PC 17599</td>\n",
       "      <td>71.2833</td>\n",
       "      <td>C85</td>\n",
       "      <td>C</td>\n",
       "    </tr>\n",
       "    <tr>\n",
       "      <th>2</th>\n",
       "      <td>3</td>\n",
       "      <td>1</td>\n",
       "      <td>3</td>\n",
       "      <td>Heikkinen, Miss. Laina</td>\n",
       "      <td>female</td>\n",
       "      <td>26.0</td>\n",
       "      <td>0</td>\n",
       "      <td>0</td>\n",
       "      <td>STON/O2. 3101282</td>\n",
       "      <td>7.9250</td>\n",
       "      <td>NaN</td>\n",
       "      <td>S</td>\n",
       "    </tr>\n",
       "    <tr>\n",
       "      <th>3</th>\n",
       "      <td>4</td>\n",
       "      <td>1</td>\n",
       "      <td>1</td>\n",
       "      <td>Futrelle, Mrs. Jacques Heath (Lily May Peel)</td>\n",
       "      <td>female</td>\n",
       "      <td>35.0</td>\n",
       "      <td>1</td>\n",
       "      <td>0</td>\n",
       "      <td>113803</td>\n",
       "      <td>53.1000</td>\n",
       "      <td>C123</td>\n",
       "      <td>S</td>\n",
       "    </tr>\n",
       "    <tr>\n",
       "      <th>4</th>\n",
       "      <td>5</td>\n",
       "      <td>0</td>\n",
       "      <td>3</td>\n",
       "      <td>Allen, Mr. William Henry</td>\n",
       "      <td>male</td>\n",
       "      <td>35.0</td>\n",
       "      <td>0</td>\n",
       "      <td>0</td>\n",
       "      <td>373450</td>\n",
       "      <td>8.0500</td>\n",
       "      <td>NaN</td>\n",
       "      <td>S</td>\n",
       "    </tr>\n",
       "  </tbody>\n",
       "</table>\n",
       "</div>"
      ],
      "text/plain": [
       "   PassengerId  Survived  Pclass  \\\n",
       "0            1         0       3   \n",
       "1            2         1       1   \n",
       "2            3         1       3   \n",
       "3            4         1       1   \n",
       "4            5         0       3   \n",
       "\n",
       "                                                Name     Sex   Age  SibSp  \\\n",
       "0                            Braund, Mr. Owen Harris    male  22.0      1   \n",
       "1  Cumings, Mrs. John Bradley (Florence Briggs Th...  female  38.0      1   \n",
       "2                             Heikkinen, Miss. Laina  female  26.0      0   \n",
       "3       Futrelle, Mrs. Jacques Heath (Lily May Peel)  female  35.0      1   \n",
       "4                           Allen, Mr. William Henry    male  35.0      0   \n",
       "\n",
       "   Parch            Ticket     Fare Cabin Embarked  \n",
       "0      0         A/5 21171   7.2500   NaN        S  \n",
       "1      0          PC 17599  71.2833   C85        C  \n",
       "2      0  STON/O2. 3101282   7.9250   NaN        S  \n",
       "3      0            113803  53.1000  C123        S  \n",
       "4      0            373450   8.0500   NaN        S  "
      ]
     },
     "execution_count": 4,
     "metadata": {},
     "output_type": "execute_result"
    }
   ],
   "source": [
    "train_data = pd.read_csv(\"/kaggle/input/titanic/train.csv\")\n",
    "train_data.head()"
   ]
  },
  {
   "cell_type": "code",
   "execution_count": 5,
   "metadata": {
    "execution": {
     "iopub.execute_input": "2025-02-18T17:57:54.203165Z",
     "iopub.status.busy": "2025-02-18T17:57:54.202783Z",
     "iopub.status.idle": "2025-02-18T17:57:54.222585Z",
     "shell.execute_reply": "2025-02-18T17:57:54.221500Z",
     "shell.execute_reply.started": "2025-02-18T17:57:54.203129Z"
    }
   },
   "outputs": [
    {
     "data": {
      "text/html": [
       "<div>\n",
       "<style scoped>\n",
       "    .dataframe tbody tr th:only-of-type {\n",
       "        vertical-align: middle;\n",
       "    }\n",
       "\n",
       "    .dataframe tbody tr th {\n",
       "        vertical-align: top;\n",
       "    }\n",
       "\n",
       "    .dataframe thead th {\n",
       "        text-align: right;\n",
       "    }\n",
       "</style>\n",
       "<table border=\"1\" class=\"dataframe\">\n",
       "  <thead>\n",
       "    <tr style=\"text-align: right;\">\n",
       "      <th></th>\n",
       "      <th>PassengerId</th>\n",
       "      <th>Pclass</th>\n",
       "      <th>Name</th>\n",
       "      <th>Sex</th>\n",
       "      <th>Age</th>\n",
       "      <th>SibSp</th>\n",
       "      <th>Parch</th>\n",
       "      <th>Ticket</th>\n",
       "      <th>Fare</th>\n",
       "      <th>Cabin</th>\n",
       "      <th>Embarked</th>\n",
       "    </tr>\n",
       "  </thead>\n",
       "  <tbody>\n",
       "    <tr>\n",
       "      <th>0</th>\n",
       "      <td>892</td>\n",
       "      <td>3</td>\n",
       "      <td>Kelly, Mr. James</td>\n",
       "      <td>male</td>\n",
       "      <td>34.5</td>\n",
       "      <td>0</td>\n",
       "      <td>0</td>\n",
       "      <td>330911</td>\n",
       "      <td>7.8292</td>\n",
       "      <td>NaN</td>\n",
       "      <td>Q</td>\n",
       "    </tr>\n",
       "    <tr>\n",
       "      <th>1</th>\n",
       "      <td>893</td>\n",
       "      <td>3</td>\n",
       "      <td>Wilkes, Mrs. James (Ellen Needs)</td>\n",
       "      <td>female</td>\n",
       "      <td>47.0</td>\n",
       "      <td>1</td>\n",
       "      <td>0</td>\n",
       "      <td>363272</td>\n",
       "      <td>7.0000</td>\n",
       "      <td>NaN</td>\n",
       "      <td>S</td>\n",
       "    </tr>\n",
       "    <tr>\n",
       "      <th>2</th>\n",
       "      <td>894</td>\n",
       "      <td>2</td>\n",
       "      <td>Myles, Mr. Thomas Francis</td>\n",
       "      <td>male</td>\n",
       "      <td>62.0</td>\n",
       "      <td>0</td>\n",
       "      <td>0</td>\n",
       "      <td>240276</td>\n",
       "      <td>9.6875</td>\n",
       "      <td>NaN</td>\n",
       "      <td>Q</td>\n",
       "    </tr>\n",
       "    <tr>\n",
       "      <th>3</th>\n",
       "      <td>895</td>\n",
       "      <td>3</td>\n",
       "      <td>Wirz, Mr. Albert</td>\n",
       "      <td>male</td>\n",
       "      <td>27.0</td>\n",
       "      <td>0</td>\n",
       "      <td>0</td>\n",
       "      <td>315154</td>\n",
       "      <td>8.6625</td>\n",
       "      <td>NaN</td>\n",
       "      <td>S</td>\n",
       "    </tr>\n",
       "    <tr>\n",
       "      <th>4</th>\n",
       "      <td>896</td>\n",
       "      <td>3</td>\n",
       "      <td>Hirvonen, Mrs. Alexander (Helga E Lindqvist)</td>\n",
       "      <td>female</td>\n",
       "      <td>22.0</td>\n",
       "      <td>1</td>\n",
       "      <td>1</td>\n",
       "      <td>3101298</td>\n",
       "      <td>12.2875</td>\n",
       "      <td>NaN</td>\n",
       "      <td>S</td>\n",
       "    </tr>\n",
       "  </tbody>\n",
       "</table>\n",
       "</div>"
      ],
      "text/plain": [
       "   PassengerId  Pclass                                          Name     Sex  \\\n",
       "0          892       3                              Kelly, Mr. James    male   \n",
       "1          893       3              Wilkes, Mrs. James (Ellen Needs)  female   \n",
       "2          894       2                     Myles, Mr. Thomas Francis    male   \n",
       "3          895       3                              Wirz, Mr. Albert    male   \n",
       "4          896       3  Hirvonen, Mrs. Alexander (Helga E Lindqvist)  female   \n",
       "\n",
       "    Age  SibSp  Parch   Ticket     Fare Cabin Embarked  \n",
       "0  34.5      0      0   330911   7.8292   NaN        Q  \n",
       "1  47.0      1      0   363272   7.0000   NaN        S  \n",
       "2  62.0      0      0   240276   9.6875   NaN        Q  \n",
       "3  27.0      0      0   315154   8.6625   NaN        S  \n",
       "4  22.0      1      1  3101298  12.2875   NaN        S  "
      ]
     },
     "execution_count": 5,
     "metadata": {},
     "output_type": "execute_result"
    }
   ],
   "source": [
    "test_data = pd.read_csv(\"/kaggle/input/titanic/test.csv\")\n",
    "test_data.head()"
   ]
  },
  {
   "cell_type": "markdown",
   "metadata": {},
   "source": [
    "# Things to note!!\n",
    "* The `train_data` is clean and organized, helping us identify patterns.\n",
    "* After identifying those patterns and our model we now want to use them to predict which passenger will survive on test_data\n",
    "* The `test_data` is neither clean nor organized. It contains missing values for certain parameters, which might be crucial for predicting survival.\n",
    "* Most importantly, we cannot eliminate rows with missing values since we need to predict for all individuals in `test_data`. Instead, statistical measures such as mean and mode must be used to handle missing values.\n",
    "* Let's visualise the train data to see which parameters are of uttermost importance when it comes to survival"
   ]
  },
  {
   "cell_type": "code",
   "execution_count": 6,
   "metadata": {
    "execution": {
     "iopub.execute_input": "2025-02-18T17:57:54.224116Z",
     "iopub.status.busy": "2025-02-18T17:57:54.223772Z",
     "iopub.status.idle": "2025-02-18T17:57:55.071219Z",
     "shell.execute_reply": "2025-02-18T17:57:55.070194Z",
     "shell.execute_reply.started": "2025-02-18T17:57:54.224083Z"
    }
   },
   "outputs": [
    {
     "name": "stdout",
     "output_type": "stream",
     "text": [
      "Setup Complete\n"
     ]
    }
   ],
   "source": [
    "import pandas as pd\n",
    "pd.plotting.register_matplotlib_converters()\n",
    "import matplotlib.pyplot as plt\n",
    "%matplotlib inline\n",
    "import seaborn as sns\n",
    "print(\"Setup Complete\")"
   ]
  },
  {
   "cell_type": "code",
   "execution_count": 7,
   "metadata": {
    "execution": {
     "iopub.execute_input": "2025-02-18T17:57:55.072414Z",
     "iopub.status.busy": "2025-02-18T17:57:55.071974Z",
     "iopub.status.idle": "2025-02-18T17:57:55.390054Z",
     "shell.execute_reply": "2025-02-18T17:57:55.388902Z",
     "shell.execute_reply.started": "2025-02-18T17:57:55.072385Z"
    }
   },
   "outputs": [
    {
     "data": {
      "image/png": "[encoded data removed]",
      "text/plain": [
       "<Figure size 640x480 with 1 Axes>"
      ]
     },
     "metadata": {},
     "output_type": "display_data"
    }
   ],
   "source": [
    "sns.countplot(data=train_data, x='Sex', hue='Survived')\n",
    "plt.title('Survival Count by Gender')\n",
    "plt.show()"
   ]
  },
  {
   "cell_type": "markdown",
   "metadata": {},
   "source": [
    "*   From above we see that most woman survived as compared to man.\n",
    "*   so it means that 'Sex' parameter is very important"
   ]
  },
  {
   "cell_type": "code",
   "execution_count": 8,
   "metadata": {
    "execution": {
     "iopub.execute_input": "2025-02-18T17:57:55.391521Z",
     "iopub.status.busy": "2025-02-18T17:57:55.391160Z",
     "iopub.status.idle": "2025-02-18T17:57:55.558825Z",
     "shell.execute_reply": "2025-02-18T17:57:55.557379Z",
     "shell.execute_reply.started": "2025-02-18T17:57:55.391489Z"
    }
   },
   "outputs": [
    {
     "data": {
      "image/png": "[encoded data removed]",
      "text/plain": [
       "<Figure size 640x480 with 1 Axes>"
      ]
     },
     "metadata": {},
     "output_type": "display_data"
    }
   ],
   "source": [
    "sns.countplot(data=train_data, x='Pclass', hue='Survived')\n",
    "plt.title('Survival Count by Pclass')\n",
    "plt.show()"
   ]
  },
  {
   "cell_type": "markdown",
   "metadata": {},
   "source": [
    "*   From above we see that most people from class 3 didnt survive.\n",
    "*   so class might also be important\n",
    "*   Then we can continue to test for some other parameters but we wont do that here as we want dive into other aspects"
   ]
  },
  {
   "cell_type": "markdown",
   "metadata": {},
   "source": [
    "# Next section\n",
    "* From the above we saw that most woman survived as compared to man\n",
    "* we can show this again by calculating the percentage of woman that survived on the titaniv"
   ]
  },
  {
   "cell_type": "code",
   "execution_count": 9,
   "metadata": {
    "execution": {
     "iopub.execute_input": "2025-02-18T17:57:55.559915Z",
     "iopub.status.busy": "2025-02-18T17:57:55.559627Z",
     "iopub.status.idle": "2025-02-18T17:57:55.571248Z",
     "shell.execute_reply": "2025-02-18T17:57:55.569597Z",
     "shell.execute_reply.started": "2025-02-18T17:57:55.559890Z"
    }
   },
   "outputs": [
    {
     "name": "stdout",
     "output_type": "stream",
     "text": [
      "% of women who survived: 0.7420382165605095\n"
     ]
    }
   ],
   "source": [
    "women = train_data.loc[train_data.Sex == 'female'][\"Survived\"]\n",
    "rate_women = sum(women)/len(women)\n",
    "\n",
    "print(\"% of women who survived:\", rate_women)"
   ]
  },
  {
   "cell_type": "markdown",
   "metadata": {},
   "source": [
    "* from the above we can see that gender plays an important role\n",
    "* but we cant use it alone since their other parameters that can play important roles like class\n",
    "* but if we can look at multiple columns at the same tie we can discover even moe patterns that can help us predict who is likely to survive on test_data\n",
    "* To do this we employ machine learning to help us."
   ]
  },
  {
   "cell_type": "markdown",
   "metadata": {},
   "source": [
    "# Random Forest Model.\n",
    "* we will deploy yhe model above on certain columns that we believe they ahve impact on survival\n",
    "* so that it can help us predict if someone will survive given those parameters."
   ]
  },
  {
   "cell_type": "code",
   "execution_count": 10,
   "metadata": {
    "execution": {
     "iopub.execute_input": "2025-02-18T17:57:55.572896Z",
     "iopub.status.busy": "2025-02-18T17:57:55.572480Z",
     "iopub.status.idle": "2025-02-18T17:57:55.594104Z",
     "shell.execute_reply": "2025-02-18T17:57:55.592937Z",
     "shell.execute_reply.started": "2025-02-18T17:57:55.572831Z"
    }
   },
   "outputs": [
    {
     "name": "stdout",
     "output_type": "stream",
     "text": [
      "False\n"
     ]
    }
   ],
   "source": [
    "test_data\n",
    "train_data\n",
    "#checks if our data contains missing values\n",
    "print(train_data['Age'].notnull().all())"
   ]
  },
  {
   "cell_type": "code",
   "execution_count": 11,
   "metadata": {
    "execution": {
     "iopub.execute_input": "2025-02-18T17:57:55.596946Z",
     "iopub.status.busy": "2025-02-18T17:57:55.596582Z",
     "iopub.status.idle": "2025-02-18T17:57:55.616054Z",
     "shell.execute_reply": "2025-02-18T17:57:55.615141Z",
     "shell.execute_reply.started": "2025-02-18T17:57:55.596918Z"
    }
   },
   "outputs": [
    {
     "name": "stdout",
     "output_type": "stream",
     "text": [
      "False\n"
     ]
    }
   ],
   "source": [
    "print(test_data['Age'].notnull().all())"
   ]
  },
  {
   "cell_type": "markdown",
   "metadata": {},
   "source": [
    "* from what I found age contains missing values both for train and test data\n",
    "* so we will start by training our model without 'Age' to see the predictive accuracy\n",
    "* and come back to include 'Age' to see if there can be any improvements"
   ]
  },
  {
   "cell_type": "code",
   "execution_count": 12,
   "metadata": {
    "execution": {
     "iopub.execute_input": "2025-02-18T17:57:55.617385Z",
     "iopub.status.busy": "2025-02-18T17:57:55.617070Z",
     "iopub.status.idle": "2025-02-18T17:57:56.718909Z",
     "shell.execute_reply": "2025-02-18T17:57:56.717621Z",
     "shell.execute_reply.started": "2025-02-18T17:57:55.617357Z"
    }
   },
   "outputs": [
    {
     "name": "stdout",
     "output_type": "stream",
     "text": [
      "Missing values detected in 'Fare' column of X_test.\n",
      "Missing values in 'Fare' have been imputed.\n",
      "Your submission was successfully saved!\n"
     ]
    }
   ],
   "source": [
    "from sklearn.ensemble import RandomForestClassifier\n",
    "from sklearn.impute import SimpleImputer\n",
    "import pandas as pd\n",
    "\n",
    "y = train_data[\"Survived\"]\n",
    "\n",
    "features = [\"Pclass\", \"Sex\", \"SibSp\", \"Parch\",\"Fare\"]\n",
    "X = pd.get_dummies(train_data[features])\n",
    "X_test = pd.get_dummies(test_data[features])\n",
    "\n",
    "# Assuming you've already generated X_test\n",
    "if X_test['Fare'].isnull().sum() > 0:\n",
    "    print(\"Missing values detected in 'Fare' column of X_test.\")\n",
    "    \n",
    "    # Impute missing values\n",
    "    imputer = SimpleImputer(strategy='mean')  # Or 'median', 'most_frequent'\n",
    "    X_test[['Fare']] = imputer.fit_transform(X_test[['Fare']])\n",
    "    \n",
    "    print(\"Missing values in 'Fare' have been imputed.\")\n",
    "else:\n",
    "    print(\"No missing values in 'Fare' column of X_test.\")\n",
    "\n",
    "model = RandomForestClassifier(n_estimators=100, max_depth=5, random_state=1)\n",
    "model.fit(X, y)\n",
    "predictions = model.predict(X_test)\n",
    "\n",
    "output = pd.DataFrame({'PassengerId': test_data.PassengerId, 'Survived': predictions})\n",
    "output.to_csv('submission.csv', index=False)\n",
    "print(\"Your submission was successfully saved!\")"
   ]
  },
  {
   "cell_type": "markdown",
   "metadata": {},
   "source": [
    "### Results\n",
    "* The score or prediction accuracy on this model was 'Score: 0.77751'\n",
    "* of which still needs some improvements, so we will go ahead and include age on the following Forest Model."
   ]
  },
  {
   "cell_type": "code",
   "execution_count": 13,
   "metadata": {
    "execution": {
     "iopub.execute_input": "2025-02-18T17:57:56.720060Z",
     "iopub.status.busy": "2025-02-18T17:57:56.719768Z",
     "iopub.status.idle": "2025-02-18T17:57:56.879696Z",
     "shell.execute_reply": "2025-02-18T17:57:56.878887Z",
     "shell.execute_reply.started": "2025-02-18T17:57:56.720033Z"
    }
   },
   "outputs": [
    {
     "name": "stdout",
     "output_type": "stream",
     "text": [
      "Missing values detected in 'Fare' column of X_test.\n",
      "Missing values in 'Fare' have been imputed.\n",
      "Your submission was successfully saved!\n"
     ]
    }
   ],
   "source": [
    "from sklearn.ensemble import RandomForestClassifier\n",
    "from sklearn.impute import SimpleImputer\n",
    "import pandas as pd\n",
    "import math\n",
    "from statistics import mean, median, mode\n",
    "\n",
    "def impute_column(data, column, method='mean'):\n",
    "    # Extract values from the column\n",
    "    values = data[column].tolist()\n",
    "    \n",
    "    # Compute the statistic based on the method\n",
    "    if method == 'mean':\n",
    "        # Use only non-NaN values for calculation\n",
    "        dd = mean([v for v in values if not (isinstance(v, float) and math.isnan(v))])\n",
    "    elif method == 'median':\n",
    "        dd = median([v for v in values if not (isinstance(v, float) and math.isnan(v))])\n",
    "    elif method == 'mode':\n",
    "        try:\n",
    "            # Mode might not be unique, so we take the first one if there are multiple modes\n",
    "            dd = mode([v for v in values if not (isinstance(v, float) and math.isnan(v))])\n",
    "        except StatisticsError:\n",
    "            # If no mode because all values are unique or NaN, fall back to mean\n",
    "            dd = mean([v for v in values if not (isinstance(v, float) and math.isnan(v))])\n",
    "    else:\n",
    "        raise ValueError(\"Method must be 'mean', 'median', or 'mode'\")\n",
    "    \n",
    "    # Impute NaN values\n",
    "    data[column] = [dd if (isinstance(v, float) and math.isnan(v)) else v for v in values]\n",
    "\n",
    "# Example usage for train_data\n",
    "impute_column(train_data, 'Age', method='mean')  # Change 'mean' to 'median' or 'mode' as needed\n",
    "\n",
    "# Example usage for test_data\n",
    "impute_column(test_data, 'Age', method='mean')   # Change 'mean' to 'median' or 'mode' as needed\n",
    "\n",
    "\n",
    "y = train_data[\"Survived\"]\n",
    "\n",
    "features = [\"Pclass\", \"Sex\", \"SibSp\", \"Parch\",\"Fare\",\"Age\"]\n",
    "X = pd.get_dummies(train_data[features])\n",
    "X_test = pd.get_dummies(test_data[features])\n",
    "\n",
    "# Assuming you've already generated X_test\n",
    "if X_test['Fare'].isnull().sum() > 0:\n",
    "    print(\"Missing values detected in 'Fare' column of X_test.\")\n",
    "    \n",
    "    # Impute missing values\n",
    "    imputer = SimpleImputer(strategy='mean')  # Or 'median', 'most_frequent'\n",
    "    X_test[['Fare']] = imputer.fit_transform(X_test[['Fare']])\n",
    "    \n",
    "    print(\"Missing values in 'Fare' have been imputed.\")\n",
    "else:\n",
    "    print(\"No missing values in 'Fare' column of X_test.\")\n",
    "\n",
    "model = RandomForestClassifier(n_estimators=100, max_depth=5, random_state=1)\n",
    "model.fit(X, y)\n",
    "predictions = model.predict(X_test)\n",
    "\n",
    "output = pd.DataFrame({'PassengerId': test_data.PassengerId, 'Survived': predictions})\n",
    "output.to_csv('submission.csv', index=False)\n",
    "print(\"Your submission was successfully saved!\")"
   ]
  },
  {
   "cell_type": "markdown",
   "metadata": {},
   "source": [
    "### Results\n",
    "* The score or prediction accuracy on the above model has now increased to 'Score: Score: 0.78468'\n",
    "* It indeed shows that Age is a determining factor for survival even though the increase is not that much.\n",
    "* But we can play around with the replacement of missing values(Mean, Mode, Median) to see if the results improve."
   ]
  }
 ],
 "metadata": {
  "kaggle": {
   "accelerator": "none",
   "dataSources": [
    {
     "databundleVersionId": 26502,
     "sourceId": 3136,
     "sourceType": "competition"
    }
   ],
   "dockerImageVersionId": 30886,
   "isGpuEnabled": false,
   "isInternetEnabled": true,
   "language": "python",
   "sourceType": "notebook"
  },
  "kernelspec": {
   "display_name": "Python 3",
   "language": "python",
   "name": "python3"
  },
  "language_info": {
   "codemirror_mode": {
    "name": "ipython",
    "version": 3
   },
   "file_extension": ".py",
   "mimetype": "text/x-python",
   "name": "python",
   "nbconvert_exporter": "python",
   "pygments_lexer": "ipython3",
   "version": "3.10.12"
  }
 },
 "nbformat": 4,
 "nbformat_minor": 4
}
